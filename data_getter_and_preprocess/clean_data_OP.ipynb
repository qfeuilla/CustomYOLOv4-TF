{
 "metadata": {
  "language_info": {
   "codemirror_mode": {
    "name": "ipython",
    "version": 3
   },
   "file_extension": ".py",
   "mimetype": "text/x-python",
   "name": "python",
   "nbconvert_exporter": "python",
   "pygments_lexer": "ipython3",
   "version": "3.8.8-final"
  },
  "orig_nbformat": 2,
  "kernelspec": {
   "name": "python38864bit0fa17682a69c4a8bb79326609ac04452",
   "display_name": "Python 3.8.8 64-bit",
   "language": "python"
  }
 },
 "nbformat": 4,
 "nbformat_minor": 2,
 "cells": [
  {
   "cell_type": "code",
   "execution_count": 1,
   "metadata": {},
   "outputs": [],
   "source": [
    "import pandas as pd\n",
    "import os\n",
    "from tqdm import tqdm\n",
    "import numpy as np"
   ]
  },
  {
   "cell_type": "code",
   "execution_count": 2,
   "metadata": {},
   "outputs": [],
   "source": [
    "DATA_DIR = \"../data/\"\n",
    "TRAIN_IMG = DATA_DIR + \"train/\"\n",
    "VAL_IMG = DATA_DIR + \"validation/\"\n",
    "TEST_IMG = DATA_DIR + \"test/\""
   ]
  },
  {
   "cell_type": "code",
   "execution_count": 3,
   "metadata": {},
   "outputs": [
    {
     "output_type": "execute_result",
     "data": {
      "text/plain": [
       "            id       label\n",
       "0    /m/011k07    Tortoise\n",
       "1  /m/011q46kg   Container\n",
       "2    /m/012074      Magpie\n",
       "3    /m/0120dh  Sea turtle\n",
       "4    /m/01226z    Football"
      ],
      "text/html": "<div>\n<style scoped>\n    .dataframe tbody tr th:only-of-type {\n        vertical-align: middle;\n    }\n\n    .dataframe tbody tr th {\n        vertical-align: top;\n    }\n\n    .dataframe thead th {\n        text-align: right;\n    }\n</style>\n<table border=\"1\" class=\"dataframe\">\n  <thead>\n    <tr style=\"text-align: right;\">\n      <th></th>\n      <th>id</th>\n      <th>label</th>\n    </tr>\n  </thead>\n  <tbody>\n    <tr>\n      <th>0</th>\n      <td>/m/011k07</td>\n      <td>Tortoise</td>\n    </tr>\n    <tr>\n      <th>1</th>\n      <td>/m/011q46kg</td>\n      <td>Container</td>\n    </tr>\n    <tr>\n      <th>2</th>\n      <td>/m/012074</td>\n      <td>Magpie</td>\n    </tr>\n    <tr>\n      <th>3</th>\n      <td>/m/0120dh</td>\n      <td>Sea turtle</td>\n    </tr>\n    <tr>\n      <th>4</th>\n      <td>/m/01226z</td>\n      <td>Football</td>\n    </tr>\n  </tbody>\n</table>\n</div>"
     },
     "metadata": {},
     "execution_count": 3
    }
   ],
   "source": [
    "names = pd.read_csv(DATA_DIR + 'class-descriptions-boxable.csv', names=['id','label'], usecols=[0,1])\n",
    "names.head()"
   ]
  },
  {
   "cell_type": "code",
   "execution_count": 4,
   "metadata": {},
   "outputs": [],
   "source": [
    "keep = ['Human face', 'Man', 'Woman', 'Clothing', 'Car', 'Wheel', 'Food', 'Vehicle', 'Boy', 'Girl']\n",
    "choosen_id = list(names[[i in keep for i in names['label']]]['id'])"
   ]
  },
  {
   "cell_type": "code",
   "execution_count": 5,
   "metadata": {},
   "outputs": [
    {
     "output_type": "stream",
     "name": "stderr",
     "text": [
      "100%|██████████| 14610229/14610229 [00:04<00:00, 3279296.88it/s]\n",
      "100000\n"
     ]
    }
   ],
   "source": [
    "train = pd.read_csv(DATA_DIR + \"oidv6-train-annotations-bbox.csv\")\n",
    "train_present = set(os.listdir(TRAIN_IMG))\n",
    "present = [im_id + '.jpg' in train_present for im_id in tqdm(train['ImageID'])]\n",
    "train = train[present]\n",
    "need = ['ImageID', 'LabelName', 'XMin', 'XMax', 'YMin', 'YMax']\n",
    "train = train[need]\n",
    "need = [i in choosen_id for i in train['LabelName']]\n",
    "train = train[need]\n",
    "print(len(train['ImageID'].unique()))"
   ]
  },
  {
   "cell_type": "code",
   "execution_count": 6,
   "metadata": {},
   "outputs": [],
   "source": [
    "x_min, y_min = np.array(train['XMin']), np.array(train['YMin'])\n",
    "x_max, y_max = np.array(train['XMax']), np.array(train['YMax'])\n",
    "centerx = (x_max + x_min) / 2\n",
    "centery = (y_max + y_min) / 2\n",
    "width = x_max - x_min\n",
    "height = y_max - y_min\n",
    "train['CentroidX'] = centerx\n",
    "train['CentroidY'] = centery\n",
    "train['Width'] = width\n",
    "train['Height'] = height\n",
    "need = ['ImageID', 'LabelName', 'CentroidX', 'CentroidY', 'Width', 'Height']\n",
    "train = train[need]\n",
    "train.to_csv('cleaned_train_bbox.csv', index=False)"
   ]
  },
  {
   "cell_type": "code",
   "execution_count": 7,
   "metadata": {},
   "outputs": [
    {
     "output_type": "stream",
     "name": "stderr",
     "text": [
      "100%|██████████| 937327/937327 [00:00<00:00, 3201926.63it/s]\n",
      "10000\n"
     ]
    }
   ],
   "source": [
    "test = pd.read_csv(DATA_DIR + \"test-annotations-bbox.csv\")\n",
    "test_present = set(os.listdir(TEST_IMG))\n",
    "present = [im_id + '.jpg' in test_present for im_id in tqdm(test['ImageID'])]\n",
    "test = test[present]\n",
    "need = ['ImageID', 'LabelName', 'XMin', 'XMax', 'YMin', 'YMax']\n",
    "test = test[need]\n",
    "need = [i in choosen_id for i in test['LabelName']]\n",
    "test = test[need]\n",
    "print(len(test['ImageID'].unique()))"
   ]
  },
  {
   "cell_type": "code",
   "execution_count": 8,
   "metadata": {},
   "outputs": [],
   "source": [
    "x_min, y_min = np.array(test['XMin']), np.array(test['YMin'])\n",
    "x_max, y_max = np.array(test['XMax']), np.array(test['YMax'])\n",
    "centerx = (x_max + x_min) / 2\n",
    "centery = (y_max + y_min) / 2\n",
    "width = x_max - x_min\n",
    "height = y_max - y_min\n",
    "test['CentroidX'] = centerx\n",
    "test['CentroidY'] = centery\n",
    "test['Width'] = width\n",
    "test['Height'] = height\n",
    "need = ['ImageID', 'LabelName', 'CentroidX', 'CentroidY', 'Width', 'Height']\n",
    "test = test[need]\n",
    "test.to_csv('cleaned_test_bbox.csv', index=False)"
   ]
  },
  {
   "cell_type": "code",
   "execution_count": 9,
   "metadata": {},
   "outputs": [
    {
     "output_type": "stream",
     "name": "stderr",
     "text": [
      "100%|██████████| 303980/303980 [00:00<00:00, 2714760.45it/s]5000\n",
      "\n"
     ]
    }
   ],
   "source": [
    "val = pd.read_csv(DATA_DIR + \"validation-annotations-bbox.csv\")\n",
    "val_present = set(os.listdir(VAL_IMG))\n",
    "present = [im_id + '.jpg' in val_present for im_id in tqdm(val['ImageID'])]\n",
    "val = val[present]\n",
    "need = ['ImageID', 'LabelName', 'XMin', 'XMax', 'YMin', 'YMax']\n",
    "val = val[need]\n",
    "need = [i in choosen_id for i in val['LabelName']]\n",
    "val = val[need]\n",
    "print(len(val['ImageID'].unique()))"
   ]
  },
  {
   "cell_type": "code",
   "execution_count": 10,
   "metadata": {},
   "outputs": [],
   "source": [
    "x_min, y_min = np.array(val['XMin']), np.array(val['YMin'])\n",
    "x_max, y_max = np.array(val['XMax']), np.array(val['YMax'])\n",
    "centerx = (x_max + x_min) / 2\n",
    "centery = (y_max + y_min) / 2\n",
    "width = x_max - x_min\n",
    "height = y_max - y_min\n",
    "val['CentroidX'] = centerx\n",
    "val['CentroidY'] = centery\n",
    "val['Width'] = width\n",
    "val['Height'] = height\n",
    "need = ['ImageID', 'LabelName', 'CentroidX', 'CentroidY', 'Width', 'Height']\n",
    "val = val[need]\n",
    "val.to_csv('cleaned_validation_bbox.csv', index=False)"
   ]
  },
  {
   "cell_type": "code",
   "execution_count": null,
   "metadata": {},
   "outputs": [],
   "source": []
  }
 ]
}