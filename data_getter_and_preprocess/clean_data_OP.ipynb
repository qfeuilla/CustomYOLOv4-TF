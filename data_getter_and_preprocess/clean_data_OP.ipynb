{
 "metadata": {
  "language_info": {
   "codemirror_mode": {
    "name": "ipython",
    "version": 3
   },
   "file_extension": ".py",
   "mimetype": "text/x-python",
   "name": "python",
   "nbconvert_exporter": "python",
   "pygments_lexer": "ipython3",
   "version": "3.8.8-final"
  },
  "orig_nbformat": 2,
  "kernelspec": {
   "name": "python38864bit0fa17682a69c4a8bb79326609ac04452",
   "display_name": "Python 3.8.8 64-bit",
   "language": "python"
  }
 },
 "nbformat": 4,
 "nbformat_minor": 2,
 "cells": [
  {
   "cell_type": "code",
   "execution_count": 13,
   "metadata": {},
   "outputs": [],
   "source": [
    "import pandas as pd\n",
    "import os\n",
    "from tqdm import tqdm"
   ]
  },
  {
   "cell_type": "code",
   "execution_count": 16,
   "metadata": {},
   "outputs": [],
   "source": [
    "DATA_DIR = \"../data/\"\n",
    "TRAIN_IMG = DATA_DIR + \"train/\"\n",
    "VAL_IMG = DATA_DIR + \"validation/\"\n",
    "TEST_IMG = DATA_DIR + \"test/\""
   ]
  },
  {
   "cell_type": "code",
   "execution_count": 17,
   "metadata": {},
   "outputs": [
    {
     "output_type": "execute_result",
     "data": {
      "text/plain": [
       "            id       label\n",
       "0    /m/011k07    Tortoise\n",
       "1  /m/011q46kg   Container\n",
       "2    /m/012074      Magpie\n",
       "3    /m/0120dh  Sea turtle\n",
       "4    /m/01226z    Football"
      ],
      "text/html": "<div>\n<style scoped>\n    .dataframe tbody tr th:only-of-type {\n        vertical-align: middle;\n    }\n\n    .dataframe tbody tr th {\n        vertical-align: top;\n    }\n\n    .dataframe thead th {\n        text-align: right;\n    }\n</style>\n<table border=\"1\" class=\"dataframe\">\n  <thead>\n    <tr style=\"text-align: right;\">\n      <th></th>\n      <th>id</th>\n      <th>label</th>\n    </tr>\n  </thead>\n  <tbody>\n    <tr>\n      <th>0</th>\n      <td>/m/011k07</td>\n      <td>Tortoise</td>\n    </tr>\n    <tr>\n      <th>1</th>\n      <td>/m/011q46kg</td>\n      <td>Container</td>\n    </tr>\n    <tr>\n      <th>2</th>\n      <td>/m/012074</td>\n      <td>Magpie</td>\n    </tr>\n    <tr>\n      <th>3</th>\n      <td>/m/0120dh</td>\n      <td>Sea turtle</td>\n    </tr>\n    <tr>\n      <th>4</th>\n      <td>/m/01226z</td>\n      <td>Football</td>\n    </tr>\n  </tbody>\n</table>\n</div>"
     },
     "metadata": {},
     "execution_count": 17
    }
   ],
   "source": [
    "names = pd.read_csv(DATA_DIR + 'class-descriptions-boxable.csv', names=['id','label'], usecols=[0,1])\n",
    "names.head()"
   ]
  },
  {
   "cell_type": "code",
   "execution_count": 18,
   "metadata": {},
   "outputs": [],
   "source": [
    "keep = ['Man', 'Woman', 'Boy', 'Girl', 'House', 'Food', 'Cat', 'Car', 'Human face', 'Airplane', 'Clothing', 'Tree', 'Mobile phone', 'Bottle', 'Insect', 'Horse', 'Train', 'Guitar', 'Drink', 'Book']\n",
    "choosen_id = list(names[[i in keep for i in names['label']]]['id'])"
   ]
  },
  {
   "cell_type": "code",
   "execution_count": 19,
   "metadata": {},
   "outputs": [
    {
     "output_type": "execute_result",
     "data": {
      "text/plain": [
       "            ImageID  Source  LabelName  Confidence      XMin      XMax  \\\n",
       "0  000002b66c9c498e  xclick  /m/01g317           1  0.012500  0.195312   \n",
       "1  000002b66c9c498e  xclick  /m/01g317           1  0.025000  0.276563   \n",
       "2  000002b66c9c498e  xclick  /m/01g317           1  0.151562  0.310937   \n",
       "3  000002b66c9c498e  xclick  /m/01g317           1  0.256250  0.429688   \n",
       "4  000002b66c9c498e  xclick  /m/01g317           1  0.257812  0.346875   \n",
       "\n",
       "       YMin      YMax  IsOccluded  IsTruncated  ...  IsDepiction  IsInside  \\\n",
       "0  0.148438  0.587500           0            1  ...            0         0   \n",
       "1  0.714063  0.948438           0            1  ...            0         0   \n",
       "2  0.198437  0.590625           1            0  ...            0         0   \n",
       "3  0.651563  0.925000           1            0  ...            0         0   \n",
       "4  0.235938  0.385938           1            0  ...            0         0   \n",
       "\n",
       "   XClick1X  XClick2X  XClick3X  XClick4X  XClick1Y  XClick2Y  XClick3Y  \\\n",
       "0  0.148438  0.012500  0.059375  0.195312  0.148438  0.357812  0.587500   \n",
       "1  0.025000  0.248438  0.276563  0.214062  0.914062  0.714063  0.782813   \n",
       "2  0.243750  0.151562  0.310937  0.262500  0.198437  0.434375  0.507812   \n",
       "3  0.315625  0.429688  0.256250  0.423438  0.651563  0.921875  0.826562   \n",
       "4  0.317188  0.257812  0.346875  0.307812  0.235938  0.289062  0.348438   \n",
       "\n",
       "   XClick4Y  \n",
       "0  0.325000  \n",
       "1  0.948438  \n",
       "2  0.590625  \n",
       "3  0.925000  \n",
       "4  0.385938  \n",
       "\n",
       "[5 rows x 21 columns]"
      ],
      "text/html": "<div>\n<style scoped>\n    .dataframe tbody tr th:only-of-type {\n        vertical-align: middle;\n    }\n\n    .dataframe tbody tr th {\n        vertical-align: top;\n    }\n\n    .dataframe thead th {\n        text-align: right;\n    }\n</style>\n<table border=\"1\" class=\"dataframe\">\n  <thead>\n    <tr style=\"text-align: right;\">\n      <th></th>\n      <th>ImageID</th>\n      <th>Source</th>\n      <th>LabelName</th>\n      <th>Confidence</th>\n      <th>XMin</th>\n      <th>XMax</th>\n      <th>YMin</th>\n      <th>YMax</th>\n      <th>IsOccluded</th>\n      <th>IsTruncated</th>\n      <th>...</th>\n      <th>IsDepiction</th>\n      <th>IsInside</th>\n      <th>XClick1X</th>\n      <th>XClick2X</th>\n      <th>XClick3X</th>\n      <th>XClick4X</th>\n      <th>XClick1Y</th>\n      <th>XClick2Y</th>\n      <th>XClick3Y</th>\n      <th>XClick4Y</th>\n    </tr>\n  </thead>\n  <tbody>\n    <tr>\n      <th>0</th>\n      <td>000002b66c9c498e</td>\n      <td>xclick</td>\n      <td>/m/01g317</td>\n      <td>1</td>\n      <td>0.012500</td>\n      <td>0.195312</td>\n      <td>0.148438</td>\n      <td>0.587500</td>\n      <td>0</td>\n      <td>1</td>\n      <td>...</td>\n      <td>0</td>\n      <td>0</td>\n      <td>0.148438</td>\n      <td>0.012500</td>\n      <td>0.059375</td>\n      <td>0.195312</td>\n      <td>0.148438</td>\n      <td>0.357812</td>\n      <td>0.587500</td>\n      <td>0.325000</td>\n    </tr>\n    <tr>\n      <th>1</th>\n      <td>000002b66c9c498e</td>\n      <td>xclick</td>\n      <td>/m/01g317</td>\n      <td>1</td>\n      <td>0.025000</td>\n      <td>0.276563</td>\n      <td>0.714063</td>\n      <td>0.948438</td>\n      <td>0</td>\n      <td>1</td>\n      <td>...</td>\n      <td>0</td>\n      <td>0</td>\n      <td>0.025000</td>\n      <td>0.248438</td>\n      <td>0.276563</td>\n      <td>0.214062</td>\n      <td>0.914062</td>\n      <td>0.714063</td>\n      <td>0.782813</td>\n      <td>0.948438</td>\n    </tr>\n    <tr>\n      <th>2</th>\n      <td>000002b66c9c498e</td>\n      <td>xclick</td>\n      <td>/m/01g317</td>\n      <td>1</td>\n      <td>0.151562</td>\n      <td>0.310937</td>\n      <td>0.198437</td>\n      <td>0.590625</td>\n      <td>1</td>\n      <td>0</td>\n      <td>...</td>\n      <td>0</td>\n      <td>0</td>\n      <td>0.243750</td>\n      <td>0.151562</td>\n      <td>0.310937</td>\n      <td>0.262500</td>\n      <td>0.198437</td>\n      <td>0.434375</td>\n      <td>0.507812</td>\n      <td>0.590625</td>\n    </tr>\n    <tr>\n      <th>3</th>\n      <td>000002b66c9c498e</td>\n      <td>xclick</td>\n      <td>/m/01g317</td>\n      <td>1</td>\n      <td>0.256250</td>\n      <td>0.429688</td>\n      <td>0.651563</td>\n      <td>0.925000</td>\n      <td>1</td>\n      <td>0</td>\n      <td>...</td>\n      <td>0</td>\n      <td>0</td>\n      <td>0.315625</td>\n      <td>0.429688</td>\n      <td>0.256250</td>\n      <td>0.423438</td>\n      <td>0.651563</td>\n      <td>0.921875</td>\n      <td>0.826562</td>\n      <td>0.925000</td>\n    </tr>\n    <tr>\n      <th>4</th>\n      <td>000002b66c9c498e</td>\n      <td>xclick</td>\n      <td>/m/01g317</td>\n      <td>1</td>\n      <td>0.257812</td>\n      <td>0.346875</td>\n      <td>0.235938</td>\n      <td>0.385938</td>\n      <td>1</td>\n      <td>0</td>\n      <td>...</td>\n      <td>0</td>\n      <td>0</td>\n      <td>0.317188</td>\n      <td>0.257812</td>\n      <td>0.346875</td>\n      <td>0.307812</td>\n      <td>0.235938</td>\n      <td>0.289062</td>\n      <td>0.348438</td>\n      <td>0.385938</td>\n    </tr>\n  </tbody>\n</table>\n<p>5 rows × 21 columns</p>\n</div>"
     },
     "metadata": {},
     "execution_count": 19
    }
   ],
   "source": [
    "train = pd.read_csv(DATA_DIR + \"oidv6-train-annotations-bbox.csv\")\n",
    "train.head()"
   ]
  },
  {
   "cell_type": "code",
   "execution_count": 20,
   "metadata": {},
   "outputs": [
    {
     "output_type": "stream",
     "name": "stdout",
     "text": [
      "100000\n"
     ]
    }
   ],
   "source": [
    "train_present = set(os.listdir(TRAIN_IMG))\n",
    "print(len(train_present))"
   ]
  },
  {
   "cell_type": "code",
   "execution_count": 21,
   "metadata": {},
   "outputs": [
    {
     "output_type": "stream",
     "name": "stderr",
     "text": [
      "100%|██████████| 14610229/14610229 [00:07<00:00, 1995823.15it/s]\n"
     ]
    }
   ],
   "source": [
    "present = [im_id + '.jpg' in train_present for im_id in tqdm(train['ImageID'])]"
   ]
  },
  {
   "cell_type": "code",
   "execution_count": 22,
   "metadata": {},
   "outputs": [],
   "source": [
    "train_clean = train[present]"
   ]
  },
  {
   "cell_type": "code",
   "execution_count": 23,
   "metadata": {},
   "outputs": [
    {
     "output_type": "stream",
     "name": "stdout",
     "text": [
      "100000\n"
     ]
    }
   ],
   "source": [
    "print(len(train_clean['ImageID'].unique()))"
   ]
  },
  {
   "source": [
    "We only need class id and Boxes coordinates for training so let's clean more"
   ],
   "cell_type": "markdown",
   "metadata": {}
  },
  {
   "cell_type": "code",
   "execution_count": 24,
   "metadata": {},
   "outputs": [
    {
     "output_type": "stream",
     "name": "stdout",
     "text": [
      "Index(['ImageID', 'Source', 'LabelName', 'Confidence', 'XMin', 'XMax', 'YMin',\n       'YMax', 'IsOccluded', 'IsTruncated', 'IsGroupOf', 'IsDepiction',\n       'IsInside', 'XClick1X', 'XClick2X', 'XClick3X', 'XClick4X', 'XClick1Y',\n       'XClick2Y', 'XClick3Y', 'XClick4Y'],\n      dtype='object')\n"
     ]
    }
   ],
   "source": [
    "print(train_clean.columns)"
   ]
  },
  {
   "cell_type": "code",
   "execution_count": 25,
   "metadata": {},
   "outputs": [],
   "source": [
    "need = ['ImageID', 'LabelName', 'XMin', 'XMax', 'YMin', 'YMax']\n",
    "only_needed_train = train_clean[need]"
   ]
  },
  {
   "cell_type": "code",
   "execution_count": 28,
   "metadata": {},
   "outputs": [],
   "source": [
    "need = [i in choosen_id for i in only_needed_train['LabelName']]\n",
    "final_clean = only_needed_train[need]"
   ]
  },
  {
   "cell_type": "code",
   "execution_count": 30,
   "metadata": {},
   "outputs": [
    {
     "output_type": "stream",
     "name": "stdout",
     "text": [
      "100000\n"
     ]
    }
   ],
   "source": [
    "print(len(final_clean['ImageID'].unique())) # good we don't have unusefull image so pipeline seems good"
   ]
  },
  {
   "cell_type": "code",
   "execution_count": 31,
   "metadata": {},
   "outputs": [],
   "source": [
    "final_clean.to_csv('cleaned_train_bbox.csv')"
   ]
  },
  {
   "cell_type": "code",
   "execution_count": null,
   "metadata": {},
   "outputs": [],
   "source": []
  }
 ]
}