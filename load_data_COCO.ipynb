{
 "metadata": {
  "language_info": {
   "codemirror_mode": {
    "name": "ipython",
    "version": 3
   },
   "file_extension": ".py",
   "mimetype": "text/x-python",
   "name": "python",
   "nbconvert_exporter": "python",
   "pygments_lexer": "ipython3",
   "version": "3.8.8-final"
  },
  "orig_nbformat": 2,
  "kernelspec": {
   "name": "python38864bittfgpuconda0ae9ea96dfdb4352a321668f4c4051cc",
   "display_name": "Python 3.8.8 64-bit ('tf_gpu': conda)",
   "language": "python"
  }
 },
 "nbformat": 4,
 "nbformat_minor": 2,
 "cells": [
  {
   "cell_type": "code",
   "execution_count": 30,
   "metadata": {},
   "outputs": [],
   "source": [
    "import json\n",
    "DATA_DIR = \"../datas/\"\n",
    "TRAIN_IMG = DATA_DIR + \"train2017/\"\n",
    "VAL_IMG = DATA_DIR + \"val2017/\""
   ]
  },
  {
   "cell_type": "code",
   "execution_count": 31,
   "metadata": {},
   "outputs": [],
   "source": [
    "val_box = open(DATA_DIR + \"annotations/stuff_train2017.json\")"
   ]
  },
  {
   "cell_type": "code",
   "execution_count": 32,
   "metadata": {},
   "outputs": [],
   "source": [
    "data = json.load(val_box)"
   ]
  },
  {
   "cell_type": "code",
   "execution_count": 33,
   "metadata": {},
   "outputs": [
    {
     "output_type": "stream",
     "name": "stdout",
     "text": [
      "dict_keys(['info', 'images', 'licenses', 'categories', 'annotations'])\n"
     ]
    }
   ],
   "source": [
    "print(data.keys())"
   ]
  },
  {
   "cell_type": "code",
   "execution_count": 34,
   "metadata": {},
   "outputs": [
    {
     "output_type": "stream",
     "name": "stdout",
     "text": [
      "747458\n"
     ]
    }
   ],
   "source": [
    "print(len(data['annotations']))"
   ]
  },
  {
   "cell_type": "code",
   "execution_count": 35,
   "metadata": {},
   "outputs": [
    {
     "output_type": "stream",
     "name": "stdout",
     "text": [
      "dict_keys(['segmentation', 'area', 'iscrowd', 'image_id', 'bbox', 'category_id', 'id'])\n"
     ]
    }
   ],
   "source": [
    "print(data['annotations'][0].keys())"
   ]
  },
  {
   "cell_type": "code",
   "execution_count": 41,
   "metadata": {},
   "outputs": [],
   "source": [
    "images_box = {}\n",
    "for i in range(len(data['annotations'])):\n",
    "    annot_i = data['annotations'][i]\n",
    "    file = annot_i[\"image_id\"]\n",
    "    if file not in images_box:\n",
    "        images_box[file] = []\n",
    "    images_box[file].append((annot_i['bbox'], annot_i['category_id']))"
   ]
  },
  {
   "cell_type": "code",
   "execution_count": 42,
   "metadata": {
    "tags": []
   },
   "outputs": [
    {
     "output_type": "stream",
     "name": "stdout",
     "text": [
      "000000262189.jpg\n000000016449.jpg\n000000458540.jpg\n000000563076.jpg\n000000429995.jpg\n000000513111.jpg\n000000182607.jpg\n"
     ]
    }
   ],
   "source": [
    "file_bbox = {}\n",
    "\n",
    "for image_dat in data['images']:\n",
    "    try:\n",
    "        file_bbox[image_dat['file_name']] = images_box[image_dat['id']]\n",
    "    except:\n",
    "        print(image_dat['file_name'])"
   ]
  },
  {
   "cell_type": "code",
   "execution_count": 43,
   "metadata": {},
   "outputs": [],
   "source": [
    "label_id = {}\n",
    "\n",
    "for cat in data['categories']:\n",
    "    label_id[cat['id']] = cat['name']"
   ]
  },
  {
   "cell_type": "code",
   "execution_count": 45,
   "metadata": {
    "tags": []
   },
   "outputs": [
    {
     "output_type": "stream",
     "name": "stdout",
     "text": [
      "[([0.0, 11.0, 640.0, 469.0], 121), ([0.0, 0.0, 640.0, 480.0], 143), ([0.0, 0.0, 319.0, 118.0], 165), ([0.0, 2.0, 631.0, 472.0], 183)]\n"
     ]
    }
   ],
   "source": [
    "print(file_bbox['000000000009.jpg'])"
   ]
  },
  {
   "cell_type": "code",
   "execution_count": 46,
   "metadata": {},
   "outputs": [],
   "source": [
    "import cv2\n",
    "import numpy as np"
   ]
  },
  {
   "cell_type": "code",
   "execution_count": 49,
   "metadata": {},
   "outputs": [],
   "source": [
    "def drawBox(boxes, image_name):\n",
    "    im = cv2.imread(TRAIN_IMG + image_name)\n",
    "    \n",
    "    for b in boxes:\n",
    "        col = (np.random.randint(255), np.random.randint(255), np.random.randint(255))\n",
    "        im = cv2.rectangle(im.copy(), (int(b[0][0]), int(b[0][1])), (int(b[0][0]+b[0][2]), int(b[0][1]+b[0][3])), col, 2)\n",
    "        cv2.putText(im, label_id[b[1]], (int(b[0][0]), int(b[0][1])+20), cv2.FONT_HERSHEY_SIMPLEX, 0.9, col, 2)\n",
    "    cv2.imshow('mask', im)\n",
    "    cv2.waitKey(0)\n",
    "    cv2.destroyAllWindows()\n",
    "    "
   ]
  },
  {
   "cell_type": "code",
   "execution_count": 50,
   "metadata": {},
   "outputs": [],
   "source": [
    "drawBox(file_bbox['000000000036.jpg'], '000000000036.jpg')"
   ]
  },
  {
   "cell_type": "code",
   "execution_count": null,
   "metadata": {},
   "outputs": [],
   "source": []
  }
 ]
}