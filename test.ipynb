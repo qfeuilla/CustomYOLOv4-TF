{
 "metadata": {
  "language_info": {
   "codemirror_mode": {
    "name": "ipython",
    "version": 3
   },
   "file_extension": ".py",
   "mimetype": "text/x-python",
   "name": "python",
   "nbconvert_exporter": "python",
   "pygments_lexer": "ipython3",
   "version": "3.8.8-final"
  },
  "orig_nbformat": 2,
  "kernelspec": {
   "name": "python3",
   "display_name": "Python 3.8.8 64-bit (conda)",
   "metadata": {
    "interpreter": {
     "hash": "7b4b4feff2f24a0f0a34464dbe537a36fda679851528fb8735cb41fa49dffb2d"
    }
   }
  }
 },
 "nbformat": 4,
 "nbformat_minor": 2,
 "cells": [
  {
   "cell_type": "code",
   "execution_count": 1,
   "metadata": {},
   "outputs": [
    {
     "output_type": "stream",
     "name": "stdout",
     "text": [
      "Default GPU Device:/device:GPU:0\n",
      "({}, [71], [5967], [])\n",
      "(608, 608)  work and give : (4, 76, 76, 30) (4, 38, 38, 30) (4, 19, 19, 30)\n"
     ]
    }
   ],
   "source": [
    "import tensorflow as tf\n",
    "from tensorflow.compat.v1 import ConfigProto\n",
    "from tensorflow.compat.v1 import InteractiveSession\n",
    "\n",
    "config = ConfigProto()\n",
    "config.gpu_options.allow_growth = True\n",
    "session = InteractiveSession(config=config)\n",
    "\n",
    "if tf.test.gpu_device_name():\n",
    "    print('Default GPU Device:{}'.format(tf.test.gpu_device_name()))\n",
    "else:\n",
    "   print(\"Please install GPU version of TF\")\n",
    "\n",
    "from model.YOLOv4 import YOLOv4\n",
    "import numpy as np\n",
    "import gc\n",
    "from tqdm import tqdm\n",
    "from gpuinfo import GPUInfo\n",
    "\n",
    "x = 608\n",
    "y = 608\n",
    "inp = np.ones((4, x, y, 3), dtype=np.float64)\n",
    "small, medium, large = YOLOv4(inp, 10)\n",
    "print(GPUInfo.get_info())\n",
    "print((x, y), \" work and give :\", small.shape, medium.shape, large.shape)\n"
   ]
  },
  {
   "cell_type": "code",
   "execution_count": 2,
   "metadata": {},
   "outputs": [],
   "source": [
    "from dataset import Dataset\n",
    "\n",
    "dataset = Dataset(4)\n",
    "bbox = dataset.yolo_output_to_bbox((small, medium, large))"
   ]
  },
  {
   "cell_type": "code",
   "execution_count": 3,
   "metadata": {
    "tags": []
   },
   "outputs": [
    {
     "output_type": "stream",
     "name": "stdout",
     "text": [
      "[0.5, 0.006578947368421052, 0.006578947368421052, 0.0, 0.0, array([0.1, 0.1, 0.1, 0.1, 0.1, 0.1, 0.1, 0.1, 0.1, 0.1], dtype=float32)]\n"
     ]
    }
   ],
   "source": [
    "print(bbox[0][0])"
   ]
  },
  {
   "cell_type": "code",
   "execution_count": null,
   "metadata": {},
   "outputs": [],
   "source": []
  }
 ]
}